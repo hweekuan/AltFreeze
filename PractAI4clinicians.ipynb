{
  "nbformat": 4,
  "nbformat_minor": 0,
  "metadata": {
    "colab": {
      "name": "PractAI4clinicians.ipynb",
      "provenance": [],
      "authorship_tag": "ABX9TyOnA0rJwTxd3gfBkdxNjYpj",
      "include_colab_link": true
    },
    "kernelspec": {
      "name": "python3",
      "display_name": "Python 3"
    },
    "language_info": {
      "name": "python"
    }
  },
  "cells": [
    {
      "cell_type": "markdown",
      "metadata": {
        "id": "view-in-github",
        "colab_type": "text"
      },
      "source": [
        "<a href=\"https://colab.research.google.com/github/hweekuan/AltFreeze/blob/main/PractAI4clinicians.ipynb\" target=\"_parent\"><img src=\"https://colab.research.google.com/assets/colab-badge.svg\" alt=\"Open In Colab\"/></a>"
      ]
    },
    {
      "cell_type": "code",
      "metadata": {
        "id": "vgnQDcryW5J2"
      },
      "source": [
        "import torch\n",
        "import torch.nn as nn\n",
        "import torch.nn.functional as F\n",
        "import torch.optim as optim"
      ],
      "execution_count": 15,
      "outputs": []
    },
    {
      "cell_type": "code",
      "metadata": {
        "id": "7UkHwN40XlLc"
      },
      "source": [
        "class my_neuralnet(nn.Module):\n",
        "  def __init__(self,input_dim,output_dim):\n",
        "    super().__init__()\n",
        "    hidden_dim = 32*input_dim\n",
        "    self.fc1 = nn.Linear(input_dim,hidden_dim)\n",
        "    self.fc2 = nn.Linear(hidden_dim,output_dim)\n",
        "\n",
        "  def forward(self,x):\n",
        "    x = self.fc1(x)\n",
        "    x = F.relu(x)\n",
        "    x = self.fc2(x)\n",
        "    return x"
      ],
      "execution_count": 16,
      "outputs": []
    },
    {
      "cell_type": "code",
      "metadata": {
        "id": "G_yV9neUZUlf"
      },
      "source": [
        "batch = 4\n",
        "input = 4\n",
        "net = my_neuralnet(input,1)\n",
        "opt = optim.Adam(net.parameters(),0.01)"
      ],
      "execution_count": 17,
      "outputs": []
    },
    {
      "cell_type": "code",
      "metadata": {
        "colab": {
          "base_uri": "https://localhost:8080/"
        },
        "id": "NgUxVdN5XQVs",
        "outputId": "3b34a0d8-5de2-47e9-f777-ab70943d5f17"
      },
      "source": [
        "\n",
        "train_n_times = 10000\n",
        "\n",
        "for e in range(train_n_times):\n",
        "\n",
        "  opt.zero_grad()\n",
        "  x = torch.randn([batch,input])\n",
        "  y = torch.unsqueeze(torch.sum(x,1),1) # y is the answer we want, add all 4 numbers\n",
        "  #print('x ',x)\n",
        "  #print('y ',y)\n",
        "  \n",
        "\n",
        "  pred = net.forward(x)\n",
        "  # should use pred = net(x) - then it calls net.forward(x)\n",
        "  # print('pred ',pred)\n",
        "\n",
        "  # print('y shape ',y.shape)\n",
        "  # print('pred shape ',pred.shape)\n",
        "\n",
        "  loss = F.mse_loss(pred,y)\n",
        "  if e%1000==0:\n",
        "    print('e ',e,' loss ',loss.item())\n",
        "\n",
        "  loss.backward(retain_graph=True,create_graph=True)\n",
        "  opt.step()\n"
      ],
      "execution_count": 18,
      "outputs": [
        {
          "output_type": "stream",
          "text": [
            "e  0  loss  4.043300151824951\n",
            "e  1000  loss  0.0029554502107203007\n",
            "e  2000  loss  0.004409400746226311\n",
            "e  3000  loss  0.0006328455056063831\n",
            "e  4000  loss  0.010803420096635818\n",
            "e  5000  loss  0.00011533985525602475\n",
            "e  6000  loss  8.223264012485743e-05\n",
            "e  7000  loss  0.0018089467193931341\n",
            "e  8000  loss  7.828693196643144e-05\n",
            "e  9000  loss  6.054277946532238e-06\n"
          ],
          "name": "stdout"
        }
      ]
    }
  ]
}